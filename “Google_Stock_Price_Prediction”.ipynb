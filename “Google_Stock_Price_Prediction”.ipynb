{
  "nbformat": 4,
  "nbformat_minor": 0,
  "metadata": {
    "colab": {
      "provenance": []
    },
    "kernelspec": {
      "name": "python3",
      "display_name": "Python 3"
    },
    "language_info": {
      "name": "python"
    }
  },
  "cells": [
    {
      "cell_type": "code",
      "execution_count": 4,
      "metadata": {
        "id": "cqUE87CNxLpz"
      },
      "outputs": [],
      "source": [
        "import pandas as pd"
      ]
    },
    {
      "cell_type": "code",
      "source": [
        "df=pd.read_csv('/content/GOOGLE.csv')"
      ],
      "metadata": {
        "id": "sXDrN-ZZyiLA"
      },
      "execution_count": 7,
      "outputs": []
    },
    {
      "cell_type": "code",
      "source": [
        "df"
      ],
      "metadata": {
        "colab": {
          "base_uri": "https://localhost:8080/",
          "height": 423
        },
        "id": "lk3lKs5_yrKL",
        "outputId": "767cd4da-3268-4ec5-9dfa-4f08c04523bd"
      },
      "execution_count": 8,
      "outputs": [
        {
          "output_type": "execute_result",
          "data": {
            "text/plain": [
              "            Date         Open         High          Low        Close  \\\n",
              "0     2004-08-19    50.050049    52.082081    48.028027    50.220219   \n",
              "1     2004-08-20    50.555557    54.594597    50.300301    54.209209   \n",
              "2     2004-08-23    55.430431    56.796799    54.579578    54.754753   \n",
              "3     2004-08-24    55.675674    55.855858    51.836838    52.487488   \n",
              "4     2004-08-25    52.532532    54.054054    51.991993    53.053055   \n",
              "...          ...          ...          ...          ...          ...   \n",
              "4426  2022-03-18  2668.489990  2724.879883  2645.169922  2722.510010   \n",
              "4427  2022-03-21  2723.270020  2741.000000  2681.850098  2722.030029   \n",
              "4428  2022-03-22  2722.030029  2821.000000  2722.030029  2797.360107   \n",
              "4429  2022-03-23  2774.050049  2791.770020  2756.699951  2765.510010   \n",
              "4430  2022-03-24  2784.000000  2832.379883  2755.010010  2831.439941   \n",
              "\n",
              "        Adj Close    Volume  \n",
              "0       50.220219  44659096  \n",
              "1       54.209209  22834343  \n",
              "2       54.754753  18256126  \n",
              "3       52.487488  15247337  \n",
              "4       53.053055   9188602  \n",
              "...           ...       ...  \n",
              "4426  2722.510010   2223100  \n",
              "4427  2722.030029   1341600  \n",
              "4428  2797.360107   1774800  \n",
              "4429  2765.510010   1257700  \n",
              "4430  2831.439941   1317900  \n",
              "\n",
              "[4431 rows x 7 columns]"
            ],
            "text/html": [
              "\n",
              "  <div id=\"df-674cfbe5-f8fb-4e1c-9390-99b4ed4685bc\" class=\"colab-df-container\">\n",
              "    <div>\n",
              "<style scoped>\n",
              "    .dataframe tbody tr th:only-of-type {\n",
              "        vertical-align: middle;\n",
              "    }\n",
              "\n",
              "    .dataframe tbody tr th {\n",
              "        vertical-align: top;\n",
              "    }\n",
              "\n",
              "    .dataframe thead th {\n",
              "        text-align: right;\n",
              "    }\n",
              "</style>\n",
              "<table border=\"1\" class=\"dataframe\">\n",
              "  <thead>\n",
              "    <tr style=\"text-align: right;\">\n",
              "      <th></th>\n",
              "      <th>Date</th>\n",
              "      <th>Open</th>\n",
              "      <th>High</th>\n",
              "      <th>Low</th>\n",
              "      <th>Close</th>\n",
              "      <th>Adj Close</th>\n",
              "      <th>Volume</th>\n",
              "    </tr>\n",
              "  </thead>\n",
              "  <tbody>\n",
              "    <tr>\n",
              "      <th>0</th>\n",
              "      <td>2004-08-19</td>\n",
              "      <td>50.050049</td>\n",
              "      <td>52.082081</td>\n",
              "      <td>48.028027</td>\n",
              "      <td>50.220219</td>\n",
              "      <td>50.220219</td>\n",
              "      <td>44659096</td>\n",
              "    </tr>\n",
              "    <tr>\n",
              "      <th>1</th>\n",
              "      <td>2004-08-20</td>\n",
              "      <td>50.555557</td>\n",
              "      <td>54.594597</td>\n",
              "      <td>50.300301</td>\n",
              "      <td>54.209209</td>\n",
              "      <td>54.209209</td>\n",
              "      <td>22834343</td>\n",
              "    </tr>\n",
              "    <tr>\n",
              "      <th>2</th>\n",
              "      <td>2004-08-23</td>\n",
              "      <td>55.430431</td>\n",
              "      <td>56.796799</td>\n",
              "      <td>54.579578</td>\n",
              "      <td>54.754753</td>\n",
              "      <td>54.754753</td>\n",
              "      <td>18256126</td>\n",
              "    </tr>\n",
              "    <tr>\n",
              "      <th>3</th>\n",
              "      <td>2004-08-24</td>\n",
              "      <td>55.675674</td>\n",
              "      <td>55.855858</td>\n",
              "      <td>51.836838</td>\n",
              "      <td>52.487488</td>\n",
              "      <td>52.487488</td>\n",
              "      <td>15247337</td>\n",
              "    </tr>\n",
              "    <tr>\n",
              "      <th>4</th>\n",
              "      <td>2004-08-25</td>\n",
              "      <td>52.532532</td>\n",
              "      <td>54.054054</td>\n",
              "      <td>51.991993</td>\n",
              "      <td>53.053055</td>\n",
              "      <td>53.053055</td>\n",
              "      <td>9188602</td>\n",
              "    </tr>\n",
              "    <tr>\n",
              "      <th>...</th>\n",
              "      <td>...</td>\n",
              "      <td>...</td>\n",
              "      <td>...</td>\n",
              "      <td>...</td>\n",
              "      <td>...</td>\n",
              "      <td>...</td>\n",
              "      <td>...</td>\n",
              "    </tr>\n",
              "    <tr>\n",
              "      <th>4426</th>\n",
              "      <td>2022-03-18</td>\n",
              "      <td>2668.489990</td>\n",
              "      <td>2724.879883</td>\n",
              "      <td>2645.169922</td>\n",
              "      <td>2722.510010</td>\n",
              "      <td>2722.510010</td>\n",
              "      <td>2223100</td>\n",
              "    </tr>\n",
              "    <tr>\n",
              "      <th>4427</th>\n",
              "      <td>2022-03-21</td>\n",
              "      <td>2723.270020</td>\n",
              "      <td>2741.000000</td>\n",
              "      <td>2681.850098</td>\n",
              "      <td>2722.030029</td>\n",
              "      <td>2722.030029</td>\n",
              "      <td>1341600</td>\n",
              "    </tr>\n",
              "    <tr>\n",
              "      <th>4428</th>\n",
              "      <td>2022-03-22</td>\n",
              "      <td>2722.030029</td>\n",
              "      <td>2821.000000</td>\n",
              "      <td>2722.030029</td>\n",
              "      <td>2797.360107</td>\n",
              "      <td>2797.360107</td>\n",
              "      <td>1774800</td>\n",
              "    </tr>\n",
              "    <tr>\n",
              "      <th>4429</th>\n",
              "      <td>2022-03-23</td>\n",
              "      <td>2774.050049</td>\n",
              "      <td>2791.770020</td>\n",
              "      <td>2756.699951</td>\n",
              "      <td>2765.510010</td>\n",
              "      <td>2765.510010</td>\n",
              "      <td>1257700</td>\n",
              "    </tr>\n",
              "    <tr>\n",
              "      <th>4430</th>\n",
              "      <td>2022-03-24</td>\n",
              "      <td>2784.000000</td>\n",
              "      <td>2832.379883</td>\n",
              "      <td>2755.010010</td>\n",
              "      <td>2831.439941</td>\n",
              "      <td>2831.439941</td>\n",
              "      <td>1317900</td>\n",
              "    </tr>\n",
              "  </tbody>\n",
              "</table>\n",
              "<p>4431 rows × 7 columns</p>\n",
              "</div>\n",
              "    <div class=\"colab-df-buttons\">\n",
              "\n",
              "  <div class=\"colab-df-container\">\n",
              "    <button class=\"colab-df-convert\" onclick=\"convertToInteractive('df-674cfbe5-f8fb-4e1c-9390-99b4ed4685bc')\"\n",
              "            title=\"Convert this dataframe to an interactive table.\"\n",
              "            style=\"display:none;\">\n",
              "\n",
              "  <svg xmlns=\"http://www.w3.org/2000/svg\" height=\"24px\" viewBox=\"0 -960 960 960\">\n",
              "    <path d=\"M120-120v-720h720v720H120Zm60-500h600v-160H180v160Zm220 220h160v-160H400v160Zm0 220h160v-160H400v160ZM180-400h160v-160H180v160Zm440 0h160v-160H620v160ZM180-180h160v-160H180v160Zm440 0h160v-160H620v160Z\"/>\n",
              "  </svg>\n",
              "    </button>\n",
              "\n",
              "  <style>\n",
              "    .colab-df-container {\n",
              "      display:flex;\n",
              "      gap: 12px;\n",
              "    }\n",
              "\n",
              "    .colab-df-convert {\n",
              "      background-color: #E8F0FE;\n",
              "      border: none;\n",
              "      border-radius: 50%;\n",
              "      cursor: pointer;\n",
              "      display: none;\n",
              "      fill: #1967D2;\n",
              "      height: 32px;\n",
              "      padding: 0 0 0 0;\n",
              "      width: 32px;\n",
              "    }\n",
              "\n",
              "    .colab-df-convert:hover {\n",
              "      background-color: #E2EBFA;\n",
              "      box-shadow: 0px 1px 2px rgba(60, 64, 67, 0.3), 0px 1px 3px 1px rgba(60, 64, 67, 0.15);\n",
              "      fill: #174EA6;\n",
              "    }\n",
              "\n",
              "    .colab-df-buttons div {\n",
              "      margin-bottom: 4px;\n",
              "    }\n",
              "\n",
              "    [theme=dark] .colab-df-convert {\n",
              "      background-color: #3B4455;\n",
              "      fill: #D2E3FC;\n",
              "    }\n",
              "\n",
              "    [theme=dark] .colab-df-convert:hover {\n",
              "      background-color: #434B5C;\n",
              "      box-shadow: 0px 1px 3px 1px rgba(0, 0, 0, 0.15);\n",
              "      filter: drop-shadow(0px 1px 2px rgba(0, 0, 0, 0.3));\n",
              "      fill: #FFFFFF;\n",
              "    }\n",
              "  </style>\n",
              "\n",
              "    <script>\n",
              "      const buttonEl =\n",
              "        document.querySelector('#df-674cfbe5-f8fb-4e1c-9390-99b4ed4685bc button.colab-df-convert');\n",
              "      buttonEl.style.display =\n",
              "        google.colab.kernel.accessAllowed ? 'block' : 'none';\n",
              "\n",
              "      async function convertToInteractive(key) {\n",
              "        const element = document.querySelector('#df-674cfbe5-f8fb-4e1c-9390-99b4ed4685bc');\n",
              "        const dataTable =\n",
              "          await google.colab.kernel.invokeFunction('convertToInteractive',\n",
              "                                                    [key], {});\n",
              "        if (!dataTable) return;\n",
              "\n",
              "        const docLinkHtml = 'Like what you see? Visit the ' +\n",
              "          '<a target=\"_blank\" href=https://colab.research.google.com/notebooks/data_table.ipynb>data table notebook</a>'\n",
              "          + ' to learn more about interactive tables.';\n",
              "        element.innerHTML = '';\n",
              "        dataTable['output_type'] = 'display_data';\n",
              "        await google.colab.output.renderOutput(dataTable, element);\n",
              "        const docLink = document.createElement('div');\n",
              "        docLink.innerHTML = docLinkHtml;\n",
              "        element.appendChild(docLink);\n",
              "      }\n",
              "    </script>\n",
              "  </div>\n",
              "\n",
              "\n",
              "<div id=\"df-227831b2-393b-4143-979c-d5813f19884e\">\n",
              "  <button class=\"colab-df-quickchart\" onclick=\"quickchart('df-227831b2-393b-4143-979c-d5813f19884e')\"\n",
              "            title=\"Suggest charts\"\n",
              "            style=\"display:none;\">\n",
              "\n",
              "<svg xmlns=\"http://www.w3.org/2000/svg\" height=\"24px\"viewBox=\"0 0 24 24\"\n",
              "     width=\"24px\">\n",
              "    <g>\n",
              "        <path d=\"M19 3H5c-1.1 0-2 .9-2 2v14c0 1.1.9 2 2 2h14c1.1 0 2-.9 2-2V5c0-1.1-.9-2-2-2zM9 17H7v-7h2v7zm4 0h-2V7h2v10zm4 0h-2v-4h2v4z\"/>\n",
              "    </g>\n",
              "</svg>\n",
              "  </button>\n",
              "\n",
              "<style>\n",
              "  .colab-df-quickchart {\n",
              "      --bg-color: #E8F0FE;\n",
              "      --fill-color: #1967D2;\n",
              "      --hover-bg-color: #E2EBFA;\n",
              "      --hover-fill-color: #174EA6;\n",
              "      --disabled-fill-color: #AAA;\n",
              "      --disabled-bg-color: #DDD;\n",
              "  }\n",
              "\n",
              "  [theme=dark] .colab-df-quickchart {\n",
              "      --bg-color: #3B4455;\n",
              "      --fill-color: #D2E3FC;\n",
              "      --hover-bg-color: #434B5C;\n",
              "      --hover-fill-color: #FFFFFF;\n",
              "      --disabled-bg-color: #3B4455;\n",
              "      --disabled-fill-color: #666;\n",
              "  }\n",
              "\n",
              "  .colab-df-quickchart {\n",
              "    background-color: var(--bg-color);\n",
              "    border: none;\n",
              "    border-radius: 50%;\n",
              "    cursor: pointer;\n",
              "    display: none;\n",
              "    fill: var(--fill-color);\n",
              "    height: 32px;\n",
              "    padding: 0;\n",
              "    width: 32px;\n",
              "  }\n",
              "\n",
              "  .colab-df-quickchart:hover {\n",
              "    background-color: var(--hover-bg-color);\n",
              "    box-shadow: 0 1px 2px rgba(60, 64, 67, 0.3), 0 1px 3px 1px rgba(60, 64, 67, 0.15);\n",
              "    fill: var(--button-hover-fill-color);\n",
              "  }\n",
              "\n",
              "  .colab-df-quickchart-complete:disabled,\n",
              "  .colab-df-quickchart-complete:disabled:hover {\n",
              "    background-color: var(--disabled-bg-color);\n",
              "    fill: var(--disabled-fill-color);\n",
              "    box-shadow: none;\n",
              "  }\n",
              "\n",
              "  .colab-df-spinner {\n",
              "    border: 2px solid var(--fill-color);\n",
              "    border-color: transparent;\n",
              "    border-bottom-color: var(--fill-color);\n",
              "    animation:\n",
              "      spin 1s steps(1) infinite;\n",
              "  }\n",
              "\n",
              "  @keyframes spin {\n",
              "    0% {\n",
              "      border-color: transparent;\n",
              "      border-bottom-color: var(--fill-color);\n",
              "      border-left-color: var(--fill-color);\n",
              "    }\n",
              "    20% {\n",
              "      border-color: transparent;\n",
              "      border-left-color: var(--fill-color);\n",
              "      border-top-color: var(--fill-color);\n",
              "    }\n",
              "    30% {\n",
              "      border-color: transparent;\n",
              "      border-left-color: var(--fill-color);\n",
              "      border-top-color: var(--fill-color);\n",
              "      border-right-color: var(--fill-color);\n",
              "    }\n",
              "    40% {\n",
              "      border-color: transparent;\n",
              "      border-right-color: var(--fill-color);\n",
              "      border-top-color: var(--fill-color);\n",
              "    }\n",
              "    60% {\n",
              "      border-color: transparent;\n",
              "      border-right-color: var(--fill-color);\n",
              "    }\n",
              "    80% {\n",
              "      border-color: transparent;\n",
              "      border-right-color: var(--fill-color);\n",
              "      border-bottom-color: var(--fill-color);\n",
              "    }\n",
              "    90% {\n",
              "      border-color: transparent;\n",
              "      border-bottom-color: var(--fill-color);\n",
              "    }\n",
              "  }\n",
              "</style>\n",
              "\n",
              "  <script>\n",
              "    async function quickchart(key) {\n",
              "      const quickchartButtonEl =\n",
              "        document.querySelector('#' + key + ' button');\n",
              "      quickchartButtonEl.disabled = true;  // To prevent multiple clicks.\n",
              "      quickchartButtonEl.classList.add('colab-df-spinner');\n",
              "      try {\n",
              "        const charts = await google.colab.kernel.invokeFunction(\n",
              "            'suggestCharts', [key], {});\n",
              "      } catch (error) {\n",
              "        console.error('Error during call to suggestCharts:', error);\n",
              "      }\n",
              "      quickchartButtonEl.classList.remove('colab-df-spinner');\n",
              "      quickchartButtonEl.classList.add('colab-df-quickchart-complete');\n",
              "    }\n",
              "    (() => {\n",
              "      let quickchartButtonEl =\n",
              "        document.querySelector('#df-227831b2-393b-4143-979c-d5813f19884e button');\n",
              "      quickchartButtonEl.style.display =\n",
              "        google.colab.kernel.accessAllowed ? 'block' : 'none';\n",
              "    })();\n",
              "  </script>\n",
              "</div>\n",
              "\n",
              "  <div id=\"id_3f8d1d4c-0cad-4dfd-b2ef-4247de578aa5\">\n",
              "    <style>\n",
              "      .colab-df-generate {\n",
              "        background-color: #E8F0FE;\n",
              "        border: none;\n",
              "        border-radius: 50%;\n",
              "        cursor: pointer;\n",
              "        display: none;\n",
              "        fill: #1967D2;\n",
              "        height: 32px;\n",
              "        padding: 0 0 0 0;\n",
              "        width: 32px;\n",
              "      }\n",
              "\n",
              "      .colab-df-generate:hover {\n",
              "        background-color: #E2EBFA;\n",
              "        box-shadow: 0px 1px 2px rgba(60, 64, 67, 0.3), 0px 1px 3px 1px rgba(60, 64, 67, 0.15);\n",
              "        fill: #174EA6;\n",
              "      }\n",
              "\n",
              "      [theme=dark] .colab-df-generate {\n",
              "        background-color: #3B4455;\n",
              "        fill: #D2E3FC;\n",
              "      }\n",
              "\n",
              "      [theme=dark] .colab-df-generate:hover {\n",
              "        background-color: #434B5C;\n",
              "        box-shadow: 0px 1px 3px 1px rgba(0, 0, 0, 0.15);\n",
              "        filter: drop-shadow(0px 1px 2px rgba(0, 0, 0, 0.3));\n",
              "        fill: #FFFFFF;\n",
              "      }\n",
              "    </style>\n",
              "    <button class=\"colab-df-generate\" onclick=\"generateWithVariable('df')\"\n",
              "            title=\"Generate code using this dataframe.\"\n",
              "            style=\"display:none;\">\n",
              "\n",
              "  <svg xmlns=\"http://www.w3.org/2000/svg\" height=\"24px\"viewBox=\"0 0 24 24\"\n",
              "       width=\"24px\">\n",
              "    <path d=\"M7,19H8.4L18.45,9,17,7.55,7,17.6ZM5,21V16.75L18.45,3.32a2,2,0,0,1,2.83,0l1.4,1.43a1.91,1.91,0,0,1,.58,1.4,1.91,1.91,0,0,1-.58,1.4L9.25,21ZM18.45,9,17,7.55Zm-12,3A5.31,5.31,0,0,0,4.9,8.1,5.31,5.31,0,0,0,1,6.5,5.31,5.31,0,0,0,4.9,4.9,5.31,5.31,0,0,0,6.5,1,5.31,5.31,0,0,0,8.1,4.9,5.31,5.31,0,0,0,12,6.5,5.46,5.46,0,0,0,6.5,12Z\"/>\n",
              "  </svg>\n",
              "    </button>\n",
              "    <script>\n",
              "      (() => {\n",
              "      const buttonEl =\n",
              "        document.querySelector('#id_3f8d1d4c-0cad-4dfd-b2ef-4247de578aa5 button.colab-df-generate');\n",
              "      buttonEl.style.display =\n",
              "        google.colab.kernel.accessAllowed ? 'block' : 'none';\n",
              "\n",
              "      buttonEl.onclick = () => {\n",
              "        google.colab.notebook.generateWithVariable('df');\n",
              "      }\n",
              "      })();\n",
              "    </script>\n",
              "  </div>\n",
              "\n",
              "    </div>\n",
              "  </div>\n"
            ],
            "application/vnd.google.colaboratory.intrinsic+json": {
              "type": "dataframe",
              "variable_name": "df",
              "summary": "{\n  \"name\": \"df\",\n  \"rows\": 4431,\n  \"fields\": [\n    {\n      \"column\": \"Date\",\n      \"properties\": {\n        \"dtype\": \"object\",\n        \"num_unique_values\": 4431,\n        \"samples\": [\n          \"2014-10-01\",\n          \"2007-12-21\",\n          \"2020-11-03\"\n        ],\n        \"semantic_type\": \"\",\n        \"description\": \"\"\n      }\n    },\n    {\n      \"column\": \"Open\",\n      \"properties\": {\n        \"dtype\": \"number\",\n        \"std\": 645.1187989240973,\n        \"min\": 49.644646,\n        \"max\": 3025.0,\n        \"num_unique_values\": 4314,\n        \"samples\": [\n          1431.0,\n          1136.359985,\n          451.451447\n        ],\n        \"semantic_type\": \"\",\n        \"description\": \"\"\n      }\n    },\n    {\n      \"column\": \"High\",\n      \"properties\": {\n        \"dtype\": \"number\",\n        \"std\": 651.3312146696705,\n        \"min\": 50.920921,\n        \"max\": 3030.929932,\n        \"num_unique_values\": 4282,\n        \"samples\": [\n          238.433426,\n          2122.439941,\n          244.54454\n        ],\n        \"semantic_type\": \"\",\n        \"description\": \"\"\n      }\n    },\n    {\n      \"column\": \"Low\",\n      \"properties\": {\n        \"dtype\": \"number\",\n        \"std\": 638.5794882891743,\n        \"min\": 48.028027,\n        \"max\": 2977.97998,\n        \"num_unique_values\": 4323,\n        \"samples\": [\n          148.48349,\n          272.027039,\n          227.122116\n        ],\n        \"semantic_type\": \"\",\n        \"description\": \"\"\n      }\n    },\n    {\n      \"column\": \"Close\",\n      \"properties\": {\n        \"dtype\": \"number\",\n        \"std\": 645.1878060185148,\n        \"min\": 50.055054,\n        \"max\": 2996.77002,\n        \"num_unique_values\": 4352,\n        \"samples\": [\n          190.565567,\n          285.065063,\n          849.47998\n        ],\n        \"semantic_type\": \"\",\n        \"description\": \"\"\n      }\n    },\n    {\n      \"column\": \"Adj Close\",\n      \"properties\": {\n        \"dtype\": \"number\",\n        \"std\": 645.1878060185148,\n        \"min\": 50.055054,\n        \"max\": 2996.77002,\n        \"num_unique_values\": 4352,\n        \"samples\": [\n          190.565567,\n          285.065063,\n          849.47998\n        ],\n        \"semantic_type\": \"\",\n        \"description\": \"\"\n      }\n    },\n    {\n      \"column\": \"Volume\",\n      \"properties\": {\n        \"dtype\": \"number\",\n        \"std\": 7690350,\n        \"min\": 465600,\n        \"max\": 82151167,\n        \"num_unique_values\": 4317,\n        \"samples\": [\n          2338400,\n          4249946,\n          3854342\n        ],\n        \"semantic_type\": \"\",\n        \"description\": \"\"\n      }\n    }\n  ]\n}"
            }
          },
          "metadata": {},
          "execution_count": 8
        }
      ]
    },
    {
      "cell_type": "code",
      "source": [
        "len(df)"
      ],
      "metadata": {
        "colab": {
          "base_uri": "https://localhost:8080/"
        },
        "id": "zNRkqsO6ywFw",
        "outputId": "108c66bb-e22c-48f8-d8f2-a511f6eaae14"
      },
      "execution_count": 9,
      "outputs": [
        {
          "output_type": "execute_result",
          "data": {
            "text/plain": [
              "4431"
            ]
          },
          "metadata": {},
          "execution_count": 9
        }
      ]
    },
    {
      "cell_type": "code",
      "source": [
        "!pip install bayesian-optimization"
      ],
      "metadata": {
        "colab": {
          "base_uri": "https://localhost:8080/"
        },
        "id": "9mtnkLzdy0Eb",
        "outputId": "4be4e626-9a60-47d1-e126-b6eabfd27063"
      },
      "execution_count": 10,
      "outputs": [
        {
          "output_type": "stream",
          "name": "stdout",
          "text": [
            "Collecting bayesian-optimization\n",
            "  Downloading bayesian_optimization-2.0.3-py3-none-any.whl.metadata (9.0 kB)\n",
            "Collecting colorama<0.5.0,>=0.4.6 (from bayesian-optimization)\n",
            "  Downloading colorama-0.4.6-py2.py3-none-any.whl.metadata (17 kB)\n",
            "Requirement already satisfied: numpy>=1.25 in /usr/local/lib/python3.11/dist-packages (from bayesian-optimization) (1.26.4)\n",
            "Requirement already satisfied: scikit-learn<2.0.0,>=1.0.0 in /usr/local/lib/python3.11/dist-packages (from bayesian-optimization) (1.6.1)\n",
            "Requirement already satisfied: scipy<2.0.0,>=1.0.0 in /usr/local/lib/python3.11/dist-packages (from bayesian-optimization) (1.13.1)\n",
            "Requirement already satisfied: joblib>=1.2.0 in /usr/local/lib/python3.11/dist-packages (from scikit-learn<2.0.0,>=1.0.0->bayesian-optimization) (1.4.2)\n",
            "Requirement already satisfied: threadpoolctl>=3.1.0 in /usr/local/lib/python3.11/dist-packages (from scikit-learn<2.0.0,>=1.0.0->bayesian-optimization) (3.5.0)\n",
            "Downloading bayesian_optimization-2.0.3-py3-none-any.whl (31 kB)\n",
            "Downloading colorama-0.4.6-py2.py3-none-any.whl (25 kB)\n",
            "Installing collected packages: colorama, bayesian-optimization\n",
            "Successfully installed bayesian-optimization-2.0.3 colorama-0.4.6\n"
          ]
        }
      ]
    },
    {
      "cell_type": "code",
      "source": [
        "df.isnull().sum()"
      ],
      "metadata": {
        "colab": {
          "base_uri": "https://localhost:8080/",
          "height": 303
        },
        "id": "mHS8DQsJy7qR",
        "outputId": "ff77e995-a15e-46a4-c6f1-cc16e0c2d781"
      },
      "execution_count": 11,
      "outputs": [
        {
          "output_type": "execute_result",
          "data": {
            "text/plain": [
              "Date         0\n",
              "Open         0\n",
              "High         0\n",
              "Low          0\n",
              "Close        0\n",
              "Adj Close    0\n",
              "Volume       0\n",
              "dtype: int64"
            ],
            "text/html": [
              "<div>\n",
              "<style scoped>\n",
              "    .dataframe tbody tr th:only-of-type {\n",
              "        vertical-align: middle;\n",
              "    }\n",
              "\n",
              "    .dataframe tbody tr th {\n",
              "        vertical-align: top;\n",
              "    }\n",
              "\n",
              "    .dataframe thead th {\n",
              "        text-align: right;\n",
              "    }\n",
              "</style>\n",
              "<table border=\"1\" class=\"dataframe\">\n",
              "  <thead>\n",
              "    <tr style=\"text-align: right;\">\n",
              "      <th></th>\n",
              "      <th>0</th>\n",
              "    </tr>\n",
              "  </thead>\n",
              "  <tbody>\n",
              "    <tr>\n",
              "      <th>Date</th>\n",
              "      <td>0</td>\n",
              "    </tr>\n",
              "    <tr>\n",
              "      <th>Open</th>\n",
              "      <td>0</td>\n",
              "    </tr>\n",
              "    <tr>\n",
              "      <th>High</th>\n",
              "      <td>0</td>\n",
              "    </tr>\n",
              "    <tr>\n",
              "      <th>Low</th>\n",
              "      <td>0</td>\n",
              "    </tr>\n",
              "    <tr>\n",
              "      <th>Close</th>\n",
              "      <td>0</td>\n",
              "    </tr>\n",
              "    <tr>\n",
              "      <th>Adj Close</th>\n",
              "      <td>0</td>\n",
              "    </tr>\n",
              "    <tr>\n",
              "      <th>Volume</th>\n",
              "      <td>0</td>\n",
              "    </tr>\n",
              "  </tbody>\n",
              "</table>\n",
              "</div><br><label><b>dtype:</b> int64</label>"
            ]
          },
          "metadata": {},
          "execution_count": 11
        }
      ]
    },
    {
      "cell_type": "code",
      "source": [
        "df.duplicated().sum()"
      ],
      "metadata": {
        "colab": {
          "base_uri": "https://localhost:8080/"
        },
        "id": "h_x7VAY7zCPc",
        "outputId": "08908eac-9a6e-412d-c27a-ffe45f0e3528"
      },
      "execution_count": 12,
      "outputs": [
        {
          "output_type": "execute_result",
          "data": {
            "text/plain": [
              "0"
            ]
          },
          "metadata": {},
          "execution_count": 12
        }
      ]
    },
    {
      "cell_type": "code",
      "source": [
        "train_size=int(0.8*len(df))\n",
        "train_df=df.iloc[:train_size]\n",
        "test_df=df.iloc[train_size:]"
      ],
      "metadata": {
        "id": "Hn7d7Juh2UPx"
      },
      "execution_count": 13,
      "outputs": []
    },
    {
      "cell_type": "code",
      "source": [
        "from bayes_opt import BayesianOptimization\n",
        "from prophet import Prophet"
      ],
      "metadata": {
        "id": "lxw_FWhoXtGd"
      },
      "execution_count": 14,
      "outputs": []
    },
    {
      "cell_type": "code",
      "source": [
        "\n",
        "train_df = train_df.rename(columns={'Date': 'ds', 'Close': 'y'})\n",
        "test_df = test_df.rename(columns={'Date': 'ds', 'Close': 'y'})\n"
      ],
      "metadata": {
        "id": "Jxrz0MoDp_hz"
      },
      "execution_count": 15,
      "outputs": []
    },
    {
      "cell_type": "code",
      "source": [
        "from prophet import Prophet\n",
        "from sklearn.metrics import mean_absolute_error\n",
        "from bayes_opt import BayesianOptimization\n",
        "import pandas as pd\n",
        "\n",
        "\n",
        "train_df = train_df.rename(columns={'Date': 'ds', 'Close': 'y'})\n",
        "test_df = test_df.rename(columns={'Date': 'ds', 'Close': 'y'})\n",
        "\n",
        "\n",
        "train_df['ds'] = pd.to_datetime(train_df['ds'])\n",
        "test_df['ds'] = pd.to_datetime(test_df['ds'])\n",
        "\n",
        "\n",
        "def prophet_model(changepoint_prior_scale, seasonality_prior_scale, holiday_prior_scale):\n",
        "    model = Prophet(\n",
        "        changepoint_prior_scale=changepoint_prior_scale,\n",
        "        seasonality_prior_scale=seasonality_prior_scale,\n",
        "        holidays_prior_scale=holiday_prior_scale\n",
        "    )\n",
        "\n",
        "    model.fit(train_df)\n",
        "\n",
        "    future = model.make_future_dataframe(periods=len(test_df), freq='D')\n",
        "    forecast = model.predict(future)\n",
        "\n",
        "    y_pred = forecast['yhat'].iloc[-len(test_df):].values\n",
        "    y_true = test_df['y'].values\n",
        "\n",
        "    mae = mean_absolute_error(y_true, y_pred)\n",
        "\n",
        "    return -mae\n",
        "\n",
        "pbound = {\n",
        "    'changepoint_prior_scale': (0.001, 0.5),\n",
        "    'seasonality_prior_scale': (0.01, 10),\n",
        "    'holiday_prior_scale': (0.01, 10)\n",
        "}\n",
        "\n",
        "\n",
        "optimizer = BayesianOptimization(\n",
        "    f=prophet_model,\n",
        "    pbounds=pbound,\n",
        "    random_state=42\n",
        ")\n",
        "\n",
        "optimizer.maximize(init_points=5, n_iter=25)\n",
        "\n",
        "\n",
        "best_params = optimizer.max['params']\n",
        "print(\"Best Hyperparameters:\", best_params)\n"
      ],
      "metadata": {
        "colab": {
          "base_uri": "https://localhost:8080/"
        },
        "id": "zygP5KRMoKo-",
        "outputId": "7daf2d9e-a1be-482e-bcda-be2378f04342"
      },
      "execution_count": 16,
      "outputs": [
        {
          "output_type": "stream",
          "name": "stdout",
          "text": [
            "|   iter    |  target   | change... | holida... | season... |\n",
            "-------------------------------------------------------------\n"
          ]
        },
        {
          "output_type": "stream",
          "name": "stderr",
          "text": [
            "INFO:prophet:Disabling daily seasonality. Run prophet with daily_seasonality=True to override this.\n",
            "DEBUG:cmdstanpy:input tempfile: /tmp/tmpf5vxwxgu/u383gtpg.json\n",
            "DEBUG:cmdstanpy:input tempfile: /tmp/tmpf5vxwxgu/_kwiagj_.json\n",
            "DEBUG:cmdstanpy:idx 0\n",
            "DEBUG:cmdstanpy:running CmdStan, num_threads: None\n",
            "DEBUG:cmdstanpy:CmdStan args: ['/usr/local/lib/python3.11/dist-packages/prophet/stan_model/prophet_model.bin', 'random', 'seed=80345', 'data', 'file=/tmp/tmpf5vxwxgu/u383gtpg.json', 'init=/tmp/tmpf5vxwxgu/_kwiagj_.json', 'output', 'file=/tmp/tmpf5vxwxgu/prophet_modelg9c6ew4n/prophet_model-20250208102432.csv', 'method=optimize', 'algorithm=lbfgs', 'iter=10000']\n",
            "10:24:32 - cmdstanpy - INFO - Chain [1] start processing\n",
            "INFO:cmdstanpy:Chain [1] start processing\n",
            "10:24:36 - cmdstanpy - INFO - Chain [1] done processing\n",
            "INFO:cmdstanpy:Chain [1] done processing\n",
            "INFO:prophet:Disabling daily seasonality. Run prophet with daily_seasonality=True to override this.\n",
            "DEBUG:cmdstanpy:input tempfile: /tmp/tmpf5vxwxgu/r2667851.json\n"
          ]
        },
        {
          "output_type": "stream",
          "name": "stdout",
          "text": [
            "| \u001b[39m1        \u001b[39m | \u001b[39m-417.4   \u001b[39m | \u001b[39m0.1879   \u001b[39m | \u001b[39m9.508    \u001b[39m | \u001b[39m7.323    \u001b[39m |\n"
          ]
        },
        {
          "output_type": "stream",
          "name": "stderr",
          "text": [
            "DEBUG:cmdstanpy:input tempfile: /tmp/tmpf5vxwxgu/5eif41br.json\n",
            "DEBUG:cmdstanpy:idx 0\n",
            "DEBUG:cmdstanpy:running CmdStan, num_threads: None\n",
            "DEBUG:cmdstanpy:CmdStan args: ['/usr/local/lib/python3.11/dist-packages/prophet/stan_model/prophet_model.bin', 'random', 'seed=20194', 'data', 'file=/tmp/tmpf5vxwxgu/r2667851.json', 'init=/tmp/tmpf5vxwxgu/5eif41br.json', 'output', 'file=/tmp/tmpf5vxwxgu/prophet_model0rsaj5wb/prophet_model-20250208102438.csv', 'method=optimize', 'algorithm=lbfgs', 'iter=10000']\n",
            "10:24:38 - cmdstanpy - INFO - Chain [1] start processing\n",
            "INFO:cmdstanpy:Chain [1] start processing\n",
            "10:24:45 - cmdstanpy - INFO - Chain [1] done processing\n",
            "INFO:cmdstanpy:Chain [1] done processing\n",
            "INFO:prophet:Disabling daily seasonality. Run prophet with daily_seasonality=True to override this.\n",
            "DEBUG:cmdstanpy:input tempfile: /tmp/tmpf5vxwxgu/yf8bc1s9.json\n"
          ]
        },
        {
          "output_type": "stream",
          "name": "stdout",
          "text": [
            "| \u001b[39m2        \u001b[39m | \u001b[39m-417.7   \u001b[39m | \u001b[39m0.2997   \u001b[39m | \u001b[39m1.569    \u001b[39m | \u001b[39m1.568    \u001b[39m |\n"
          ]
        },
        {
          "output_type": "stream",
          "name": "stderr",
          "text": [
            "DEBUG:cmdstanpy:input tempfile: /tmp/tmpf5vxwxgu/wmxpvzqg.json\n",
            "DEBUG:cmdstanpy:idx 0\n",
            "DEBUG:cmdstanpy:running CmdStan, num_threads: None\n",
            "DEBUG:cmdstanpy:CmdStan args: ['/usr/local/lib/python3.11/dist-packages/prophet/stan_model/prophet_model.bin', 'random', 'seed=43765', 'data', 'file=/tmp/tmpf5vxwxgu/yf8bc1s9.json', 'init=/tmp/tmpf5vxwxgu/wmxpvzqg.json', 'output', 'file=/tmp/tmpf5vxwxgu/prophet_model0watsyzt/prophet_model-20250208102447.csv', 'method=optimize', 'algorithm=lbfgs', 'iter=10000']\n",
            "10:24:47 - cmdstanpy - INFO - Chain [1] start processing\n",
            "INFO:cmdstanpy:Chain [1] start processing\n",
            "10:24:48 - cmdstanpy - INFO - Chain [1] done processing\n",
            "INFO:cmdstanpy:Chain [1] done processing\n",
            "INFO:prophet:Disabling daily seasonality. Run prophet with daily_seasonality=True to override this.\n",
            "DEBUG:cmdstanpy:input tempfile: /tmp/tmpf5vxwxgu/fud17bfp.json\n"
          ]
        },
        {
          "output_type": "stream",
          "name": "stdout",
          "text": [
            "| \u001b[35m3        \u001b[39m | \u001b[35m-416.7   \u001b[39m | \u001b[35m0.02998  \u001b[39m | \u001b[35m8.663    \u001b[39m | \u001b[35m6.015    \u001b[39m |\n"
          ]
        },
        {
          "output_type": "stream",
          "name": "stderr",
          "text": [
            "DEBUG:cmdstanpy:input tempfile: /tmp/tmpf5vxwxgu/lhw9cuuv.json\n",
            "DEBUG:cmdstanpy:idx 0\n",
            "DEBUG:cmdstanpy:running CmdStan, num_threads: None\n",
            "DEBUG:cmdstanpy:CmdStan args: ['/usr/local/lib/python3.11/dist-packages/prophet/stan_model/prophet_model.bin', 'random', 'seed=71408', 'data', 'file=/tmp/tmpf5vxwxgu/fud17bfp.json', 'init=/tmp/tmpf5vxwxgu/lhw9cuuv.json', 'output', 'file=/tmp/tmpf5vxwxgu/prophet_model2tucdfy4/prophet_model-20250208102449.csv', 'method=optimize', 'algorithm=lbfgs', 'iter=10000']\n",
            "10:24:49 - cmdstanpy - INFO - Chain [1] start processing\n",
            "INFO:cmdstanpy:Chain [1] start processing\n",
            "10:24:51 - cmdstanpy - INFO - Chain [1] done processing\n",
            "INFO:cmdstanpy:Chain [1] done processing\n",
            "INFO:prophet:Disabling daily seasonality. Run prophet with daily_seasonality=True to override this.\n",
            "DEBUG:cmdstanpy:input tempfile: /tmp/tmpf5vxwxgu/plcufs70.json\n"
          ]
        },
        {
          "output_type": "stream",
          "name": "stdout",
          "text": [
            "| \u001b[39m4        \u001b[39m | \u001b[39m-417.8   \u001b[39m | \u001b[39m0.3543   \u001b[39m | \u001b[39m0.2156   \u001b[39m | \u001b[39m9.699    \u001b[39m |\n"
          ]
        },
        {
          "output_type": "stream",
          "name": "stderr",
          "text": [
            "DEBUG:cmdstanpy:input tempfile: /tmp/tmpf5vxwxgu/l1hb_ff1.json\n",
            "DEBUG:cmdstanpy:idx 0\n",
            "DEBUG:cmdstanpy:running CmdStan, num_threads: None\n",
            "DEBUG:cmdstanpy:CmdStan args: ['/usr/local/lib/python3.11/dist-packages/prophet/stan_model/prophet_model.bin', 'random', 'seed=79052', 'data', 'file=/tmp/tmpf5vxwxgu/plcufs70.json', 'init=/tmp/tmpf5vxwxgu/l1hb_ff1.json', 'output', 'file=/tmp/tmpf5vxwxgu/prophet_modellao3iirj/prophet_model-20250208102452.csv', 'method=optimize', 'algorithm=lbfgs', 'iter=10000']\n",
            "10:24:52 - cmdstanpy - INFO - Chain [1] start processing\n",
            "INFO:cmdstanpy:Chain [1] start processing\n",
            "10:24:54 - cmdstanpy - INFO - Chain [1] done processing\n",
            "INFO:cmdstanpy:Chain [1] done processing\n"
          ]
        },
        {
          "output_type": "stream",
          "name": "stdout",
          "text": [
            "| \u001b[39m5        \u001b[39m | \u001b[39m-417.7   \u001b[39m | \u001b[39m0.4164   \u001b[39m | \u001b[39m2.131    \u001b[39m | \u001b[39m1.826    \u001b[39m |\n"
          ]
        },
        {
          "output_type": "stream",
          "name": "stderr",
          "text": [
            "INFO:prophet:Disabling daily seasonality. Run prophet with daily_seasonality=True to override this.\n",
            "DEBUG:cmdstanpy:input tempfile: /tmp/tmpf5vxwxgu/43k0u9u4.json\n",
            "DEBUG:cmdstanpy:input tempfile: /tmp/tmpf5vxwxgu/8lcja9a4.json\n",
            "DEBUG:cmdstanpy:idx 0\n",
            "DEBUG:cmdstanpy:running CmdStan, num_threads: None\n",
            "DEBUG:cmdstanpy:CmdStan args: ['/usr/local/lib/python3.11/dist-packages/prophet/stan_model/prophet_model.bin', 'random', 'seed=44700', 'data', 'file=/tmp/tmpf5vxwxgu/43k0u9u4.json', 'init=/tmp/tmpf5vxwxgu/8lcja9a4.json', 'output', 'file=/tmp/tmpf5vxwxgu/prophet_modeljmu896mf/prophet_model-20250208102455.csv', 'method=optimize', 'algorithm=lbfgs', 'iter=10000']\n",
            "10:24:55 - cmdstanpy - INFO - Chain [1] start processing\n",
            "INFO:cmdstanpy:Chain [1] start processing\n",
            "10:24:56 - cmdstanpy - INFO - Chain [1] done processing\n",
            "INFO:cmdstanpy:Chain [1] done processing\n"
          ]
        },
        {
          "output_type": "stream",
          "name": "stdout",
          "text": [
            "| \u001b[39m6        \u001b[39m | \u001b[39m-482.8   \u001b[39m | \u001b[39m0.001    \u001b[39m | \u001b[39m7.999    \u001b[39m | \u001b[39m5.01     \u001b[39m |\n"
          ]
        },
        {
          "output_type": "stream",
          "name": "stderr",
          "text": [
            "INFO:prophet:Disabling daily seasonality. Run prophet with daily_seasonality=True to override this.\n",
            "DEBUG:cmdstanpy:input tempfile: /tmp/tmpf5vxwxgu/zj366r7k.json\n",
            "DEBUG:cmdstanpy:input tempfile: /tmp/tmpf5vxwxgu/okpgr_80.json\n",
            "DEBUG:cmdstanpy:idx 0\n",
            "DEBUG:cmdstanpy:running CmdStan, num_threads: None\n",
            "DEBUG:cmdstanpy:CmdStan args: ['/usr/local/lib/python3.11/dist-packages/prophet/stan_model/prophet_model.bin', 'random', 'seed=66770', 'data', 'file=/tmp/tmpf5vxwxgu/zj366r7k.json', 'init=/tmp/tmpf5vxwxgu/okpgr_80.json', 'output', 'file=/tmp/tmpf5vxwxgu/prophet_modelbd3ftmzt/prophet_model-20250208102458.csv', 'method=optimize', 'algorithm=lbfgs', 'iter=10000']\n",
            "10:24:58 - cmdstanpy - INFO - Chain [1] start processing\n",
            "INFO:cmdstanpy:Chain [1] start processing\n",
            "10:24:59 - cmdstanpy - INFO - Chain [1] done processing\n",
            "INFO:cmdstanpy:Chain [1] done processing\n"
          ]
        },
        {
          "output_type": "stream",
          "name": "stdout",
          "text": [
            "| \u001b[39m7        \u001b[39m | \u001b[39m-416.8   \u001b[39m | \u001b[39m0.0578   \u001b[39m | \u001b[39m8.767    \u001b[39m | \u001b[39m6.833    \u001b[39m |\n"
          ]
        },
        {
          "output_type": "stream",
          "name": "stderr",
          "text": [
            "INFO:prophet:Disabling daily seasonality. Run prophet with daily_seasonality=True to override this.\n",
            "DEBUG:cmdstanpy:input tempfile: /tmp/tmpf5vxwxgu/iq9sm_6o.json\n",
            "DEBUG:cmdstanpy:input tempfile: /tmp/tmpf5vxwxgu/sz3chy44.json\n",
            "DEBUG:cmdstanpy:idx 0\n",
            "DEBUG:cmdstanpy:running CmdStan, num_threads: None\n",
            "DEBUG:cmdstanpy:CmdStan args: ['/usr/local/lib/python3.11/dist-packages/prophet/stan_model/prophet_model.bin', 'random', 'seed=11166', 'data', 'file=/tmp/tmpf5vxwxgu/iq9sm_6o.json', 'init=/tmp/tmpf5vxwxgu/sz3chy44.json', 'output', 'file=/tmp/tmpf5vxwxgu/prophet_modelcw26fg25/prophet_model-20250208102500.csv', 'method=optimize', 'algorithm=lbfgs', 'iter=10000']\n",
            "10:25:00 - cmdstanpy - INFO - Chain [1] start processing\n",
            "INFO:cmdstanpy:Chain [1] start processing\n",
            "10:25:02 - cmdstanpy - INFO - Chain [1] done processing\n",
            "INFO:cmdstanpy:Chain [1] done processing\n"
          ]
        },
        {
          "output_type": "stream",
          "name": "stdout",
          "text": [
            "| \u001b[39m8        \u001b[39m | \u001b[39m-417.6   \u001b[39m | \u001b[39m0.2541   \u001b[39m | \u001b[39m9.85     \u001b[39m | \u001b[39m6.125    \u001b[39m |\n"
          ]
        },
        {
          "output_type": "stream",
          "name": "stderr",
          "text": [
            "INFO:prophet:Disabling daily seasonality. Run prophet with daily_seasonality=True to override this.\n",
            "DEBUG:cmdstanpy:input tempfile: /tmp/tmpf5vxwxgu/0ppvk5ra.json\n",
            "DEBUG:cmdstanpy:input tempfile: /tmp/tmpf5vxwxgu/ecj5i89y.json\n",
            "DEBUG:cmdstanpy:idx 0\n",
            "DEBUG:cmdstanpy:running CmdStan, num_threads: None\n",
            "DEBUG:cmdstanpy:CmdStan args: ['/usr/local/lib/python3.11/dist-packages/prophet/stan_model/prophet_model.bin', 'random', 'seed=7479', 'data', 'file=/tmp/tmpf5vxwxgu/0ppvk5ra.json', 'init=/tmp/tmpf5vxwxgu/ecj5i89y.json', 'output', 'file=/tmp/tmpf5vxwxgu/prophet_modelkcxjjq2j/prophet_model-20250208102504.csv', 'method=optimize', 'algorithm=lbfgs', 'iter=10000']\n",
            "10:25:04 - cmdstanpy - INFO - Chain [1] start processing\n",
            "INFO:cmdstanpy:Chain [1] start processing\n",
            "10:25:05 - cmdstanpy - INFO - Chain [1] done processing\n",
            "INFO:cmdstanpy:Chain [1] done processing\n"
          ]
        },
        {
          "output_type": "stream",
          "name": "stdout",
          "text": [
            "| \u001b[39m9        \u001b[39m | \u001b[39m-416.8   \u001b[39m | \u001b[39m0.04998  \u001b[39m | \u001b[39m2.463    \u001b[39m | \u001b[39m0.4291   \u001b[39m |\n"
          ]
        },
        {
          "output_type": "stream",
          "name": "stderr",
          "text": [
            "INFO:prophet:Disabling daily seasonality. Run prophet with daily_seasonality=True to override this.\n",
            "DEBUG:cmdstanpy:input tempfile: /tmp/tmpf5vxwxgu/7j2l806d.json\n",
            "DEBUG:cmdstanpy:input tempfile: /tmp/tmpf5vxwxgu/ilhljbsa.json\n",
            "DEBUG:cmdstanpy:idx 0\n",
            "DEBUG:cmdstanpy:running CmdStan, num_threads: None\n",
            "DEBUG:cmdstanpy:CmdStan args: ['/usr/local/lib/python3.11/dist-packages/prophet/stan_model/prophet_model.bin', 'random', 'seed=36787', 'data', 'file=/tmp/tmpf5vxwxgu/7j2l806d.json', 'init=/tmp/tmpf5vxwxgu/ilhljbsa.json', 'output', 'file=/tmp/tmpf5vxwxgu/prophet_modelo74j9kpa/prophet_model-20250208102506.csv', 'method=optimize', 'algorithm=lbfgs', 'iter=10000']\n",
            "10:25:06 - cmdstanpy - INFO - Chain [1] start processing\n",
            "INFO:cmdstanpy:Chain [1] start processing\n",
            "10:25:09 - cmdstanpy - INFO - Chain [1] done processing\n",
            "INFO:cmdstanpy:Chain [1] done processing\n"
          ]
        },
        {
          "output_type": "stream",
          "name": "stdout",
          "text": [
            "| \u001b[39m10       \u001b[39m | \u001b[39m-417.7   \u001b[39m | \u001b[39m0.4755   \u001b[39m | \u001b[39m3.614    \u001b[39m | \u001b[39m1.23     \u001b[39m |\n"
          ]
        },
        {
          "output_type": "stream",
          "name": "stderr",
          "text": [
            "INFO:prophet:Disabling daily seasonality. Run prophet with daily_seasonality=True to override this.\n",
            "DEBUG:cmdstanpy:input tempfile: /tmp/tmpf5vxwxgu/nh7zswlg.json\n",
            "DEBUG:cmdstanpy:input tempfile: /tmp/tmpf5vxwxgu/tmdzzqlk.json\n",
            "DEBUG:cmdstanpy:idx 0\n",
            "DEBUG:cmdstanpy:running CmdStan, num_threads: None\n",
            "DEBUG:cmdstanpy:CmdStan args: ['/usr/local/lib/python3.11/dist-packages/prophet/stan_model/prophet_model.bin', 'random', 'seed=91340', 'data', 'file=/tmp/tmpf5vxwxgu/nh7zswlg.json', 'init=/tmp/tmpf5vxwxgu/tmdzzqlk.json', 'output', 'file=/tmp/tmpf5vxwxgu/prophet_model74e3in_5/prophet_model-20250208102511.csv', 'method=optimize', 'algorithm=lbfgs', 'iter=10000']\n",
            "10:25:11 - cmdstanpy - INFO - Chain [1] start processing\n",
            "INFO:cmdstanpy:Chain [1] start processing\n",
            "10:25:13 - cmdstanpy - INFO - Chain [1] done processing\n",
            "INFO:cmdstanpy:Chain [1] done processing\n"
          ]
        },
        {
          "output_type": "stream",
          "name": "stdout",
          "text": [
            "| \u001b[39m11       \u001b[39m | \u001b[39m-417.4   \u001b[39m | \u001b[39m0.4719   \u001b[39m | \u001b[39m1.088    \u001b[39m | \u001b[39m0.1035   \u001b[39m |\n"
          ]
        },
        {
          "output_type": "stream",
          "name": "stderr",
          "text": [
            "INFO:prophet:Disabling daily seasonality. Run prophet with daily_seasonality=True to override this.\n",
            "DEBUG:cmdstanpy:input tempfile: /tmp/tmpf5vxwxgu/h08il_q7.json\n",
            "DEBUG:cmdstanpy:input tempfile: /tmp/tmpf5vxwxgu/vjjs0ol5.json\n",
            "DEBUG:cmdstanpy:idx 0\n",
            "DEBUG:cmdstanpy:running CmdStan, num_threads: None\n",
            "DEBUG:cmdstanpy:CmdStan args: ['/usr/local/lib/python3.11/dist-packages/prophet/stan_model/prophet_model.bin', 'random', 'seed=55531', 'data', 'file=/tmp/tmpf5vxwxgu/h08il_q7.json', 'init=/tmp/tmpf5vxwxgu/vjjs0ol5.json', 'output', 'file=/tmp/tmpf5vxwxgu/prophet_modelrvhrwkkt/prophet_model-20250208102514.csv', 'method=optimize', 'algorithm=lbfgs', 'iter=10000']\n",
            "10:25:14 - cmdstanpy - INFO - Chain [1] start processing\n",
            "INFO:cmdstanpy:Chain [1] start processing\n",
            "10:25:16 - cmdstanpy - INFO - Chain [1] done processing\n",
            "INFO:cmdstanpy:Chain [1] done processing\n",
            "INFO:prophet:Disabling daily seasonality. Run prophet with daily_seasonality=True to override this.\n",
            "DEBUG:cmdstanpy:input tempfile: /tmp/tmpf5vxwxgu/fctf4ljn.json\n"
          ]
        },
        {
          "output_type": "stream",
          "name": "stdout",
          "text": [
            "| \u001b[39m12       \u001b[39m | \u001b[39m-416.7   \u001b[39m | \u001b[39m0.04726  \u001b[39m | \u001b[39m0.01315  \u001b[39m | \u001b[39m1.076    \u001b[39m |\n"
          ]
        },
        {
          "output_type": "stream",
          "name": "stderr",
          "text": [
            "DEBUG:cmdstanpy:input tempfile: /tmp/tmpf5vxwxgu/7gi_mzks.json\n",
            "DEBUG:cmdstanpy:idx 0\n",
            "DEBUG:cmdstanpy:running CmdStan, num_threads: None\n",
            "DEBUG:cmdstanpy:CmdStan args: ['/usr/local/lib/python3.11/dist-packages/prophet/stan_model/prophet_model.bin', 'random', 'seed=77480', 'data', 'file=/tmp/tmpf5vxwxgu/fctf4ljn.json', 'init=/tmp/tmpf5vxwxgu/7gi_mzks.json', 'output', 'file=/tmp/tmpf5vxwxgu/prophet_modelg7q7cafr/prophet_model-20250208102517.csv', 'method=optimize', 'algorithm=lbfgs', 'iter=10000']\n",
            "10:25:17 - cmdstanpy - INFO - Chain [1] start processing\n",
            "INFO:cmdstanpy:Chain [1] start processing\n",
            "10:25:18 - cmdstanpy - INFO - Chain [1] done processing\n",
            "INFO:cmdstanpy:Chain [1] done processing\n"
          ]
        },
        {
          "output_type": "stream",
          "name": "stdout",
          "text": [
            "| \u001b[39m13       \u001b[39m | \u001b[39m-417.5   \u001b[39m | \u001b[39m0.1812   \u001b[39m | \u001b[39m2.531    \u001b[39m | \u001b[39m0.3374   \u001b[39m |\n"
          ]
        },
        {
          "output_type": "stream",
          "name": "stderr",
          "text": [
            "INFO:prophet:Disabling daily seasonality. Run prophet with daily_seasonality=True to override this.\n",
            "DEBUG:cmdstanpy:input tempfile: /tmp/tmpf5vxwxgu/ft_ow3iv.json\n",
            "DEBUG:cmdstanpy:input tempfile: /tmp/tmpf5vxwxgu/1m1d0xmm.json\n",
            "DEBUG:cmdstanpy:idx 0\n",
            "DEBUG:cmdstanpy:running CmdStan, num_threads: None\n",
            "DEBUG:cmdstanpy:CmdStan args: ['/usr/local/lib/python3.11/dist-packages/prophet/stan_model/prophet_model.bin', 'random', 'seed=69422', 'data', 'file=/tmp/tmpf5vxwxgu/ft_ow3iv.json', 'init=/tmp/tmpf5vxwxgu/1m1d0xmm.json', 'output', 'file=/tmp/tmpf5vxwxgu/prophet_model32or6dz3/prophet_model-20250208102520.csv', 'method=optimize', 'algorithm=lbfgs', 'iter=10000']\n",
            "10:25:20 - cmdstanpy - INFO - Chain [1] start processing\n",
            "INFO:cmdstanpy:Chain [1] start processing\n",
            "10:25:22 - cmdstanpy - INFO - Chain [1] done processing\n",
            "INFO:cmdstanpy:Chain [1] done processing\n"
          ]
        },
        {
          "output_type": "stream",
          "name": "stdout",
          "text": [
            "| \u001b[39m14       \u001b[39m | \u001b[39m-417.5   \u001b[39m | \u001b[39m0.2064   \u001b[39m | \u001b[39m0.04283  \u001b[39m | \u001b[39m2.857    \u001b[39m |\n"
          ]
        },
        {
          "output_type": "stream",
          "name": "stderr",
          "text": [
            "INFO:prophet:Disabling daily seasonality. Run prophet with daily_seasonality=True to override this.\n",
            "DEBUG:cmdstanpy:input tempfile: /tmp/tmpf5vxwxgu/dqkh__3t.json\n",
            "DEBUG:cmdstanpy:input tempfile: /tmp/tmpf5vxwxgu/h8112rds.json\n",
            "DEBUG:cmdstanpy:idx 0\n",
            "DEBUG:cmdstanpy:running CmdStan, num_threads: None\n",
            "DEBUG:cmdstanpy:CmdStan args: ['/usr/local/lib/python3.11/dist-packages/prophet/stan_model/prophet_model.bin', 'random', 'seed=34943', 'data', 'file=/tmp/tmpf5vxwxgu/dqkh__3t.json', 'init=/tmp/tmpf5vxwxgu/h8112rds.json', 'output', 'file=/tmp/tmpf5vxwxgu/prophet_model0c5kavte/prophet_model-20250208102524.csv', 'method=optimize', 'algorithm=lbfgs', 'iter=10000']\n",
            "10:25:24 - cmdstanpy - INFO - Chain [1] start processing\n",
            "INFO:cmdstanpy:Chain [1] start processing\n",
            "10:25:25 - cmdstanpy - INFO - Chain [1] done processing\n",
            "INFO:cmdstanpy:Chain [1] done processing\n"
          ]
        },
        {
          "output_type": "stream",
          "name": "stdout",
          "text": [
            "| \u001b[39m15       \u001b[39m | \u001b[39m-416.8   \u001b[39m | \u001b[39m0.04451  \u001b[39m | \u001b[39m1.557    \u001b[39m | \u001b[39m3.606    \u001b[39m |\n"
          ]
        },
        {
          "output_type": "stream",
          "name": "stderr",
          "text": [
            "INFO:prophet:Disabling daily seasonality. Run prophet with daily_seasonality=True to override this.\n",
            "DEBUG:cmdstanpy:input tempfile: /tmp/tmpf5vxwxgu/3ftiuh3y.json\n",
            "DEBUG:cmdstanpy:input tempfile: /tmp/tmpf5vxwxgu/av1lscpv.json\n",
            "DEBUG:cmdstanpy:idx 0\n",
            "DEBUG:cmdstanpy:running CmdStan, num_threads: None\n",
            "DEBUG:cmdstanpy:CmdStan args: ['/usr/local/lib/python3.11/dist-packages/prophet/stan_model/prophet_model.bin', 'random', 'seed=20683', 'data', 'file=/tmp/tmpf5vxwxgu/3ftiuh3y.json', 'init=/tmp/tmpf5vxwxgu/av1lscpv.json', 'output', 'file=/tmp/tmpf5vxwxgu/prophet_model758dyb9s/prophet_model-20250208102527.csv', 'method=optimize', 'algorithm=lbfgs', 'iter=10000']\n",
            "10:25:27 - cmdstanpy - INFO - Chain [1] start processing\n",
            "INFO:cmdstanpy:Chain [1] start processing\n",
            "10:25:29 - cmdstanpy - INFO - Chain [1] done processing\n",
            "INFO:cmdstanpy:Chain [1] done processing\n"
          ]
        },
        {
          "output_type": "stream",
          "name": "stdout",
          "text": [
            "| \u001b[39m16       \u001b[39m | \u001b[39m-417.0   \u001b[39m | \u001b[39m0.06286  \u001b[39m | \u001b[39m3.261    \u001b[39m | \u001b[39m3.165    \u001b[39m |\n"
          ]
        },
        {
          "output_type": "stream",
          "name": "stderr",
          "text": [
            "INFO:prophet:Disabling daily seasonality. Run prophet with daily_seasonality=True to override this.\n",
            "DEBUG:cmdstanpy:input tempfile: /tmp/tmpf5vxwxgu/_2wcgfed.json\n",
            "DEBUG:cmdstanpy:input tempfile: /tmp/tmpf5vxwxgu/poadhpt9.json\n",
            "DEBUG:cmdstanpy:idx 0\n",
            "DEBUG:cmdstanpy:running CmdStan, num_threads: None\n",
            "DEBUG:cmdstanpy:CmdStan args: ['/usr/local/lib/python3.11/dist-packages/prophet/stan_model/prophet_model.bin', 'random', 'seed=8771', 'data', 'file=/tmp/tmpf5vxwxgu/_2wcgfed.json', 'init=/tmp/tmpf5vxwxgu/poadhpt9.json', 'output', 'file=/tmp/tmpf5vxwxgu/prophet_modelcko_xx_6/prophet_model-20250208102530.csv', 'method=optimize', 'algorithm=lbfgs', 'iter=10000']\n",
            "10:25:30 - cmdstanpy - INFO - Chain [1] start processing\n",
            "INFO:cmdstanpy:Chain [1] start processing\n",
            "10:25:32 - cmdstanpy - INFO - Chain [1] done processing\n",
            "INFO:cmdstanpy:Chain [1] done processing\n"
          ]
        },
        {
          "output_type": "stream",
          "name": "stdout",
          "text": [
            "| \u001b[39m17       \u001b[39m | \u001b[39m-417.7   \u001b[39m | \u001b[39m0.478    \u001b[39m | \u001b[39m2.736    \u001b[39m | \u001b[39m4.661    \u001b[39m |\n"
          ]
        },
        {
          "output_type": "stream",
          "name": "stderr",
          "text": [
            "INFO:prophet:Disabling daily seasonality. Run prophet with daily_seasonality=True to override this.\n",
            "DEBUG:cmdstanpy:input tempfile: /tmp/tmpf5vxwxgu/lxqzpg7p.json\n",
            "DEBUG:cmdstanpy:input tempfile: /tmp/tmpf5vxwxgu/y49s_thj.json\n",
            "DEBUG:cmdstanpy:idx 0\n",
            "DEBUG:cmdstanpy:running CmdStan, num_threads: None\n",
            "DEBUG:cmdstanpy:CmdStan args: ['/usr/local/lib/python3.11/dist-packages/prophet/stan_model/prophet_model.bin', 'random', 'seed=95251', 'data', 'file=/tmp/tmpf5vxwxgu/lxqzpg7p.json', 'init=/tmp/tmpf5vxwxgu/y49s_thj.json', 'output', 'file=/tmp/tmpf5vxwxgu/prophet_modeln99qryhv/prophet_model-20250208102533.csv', 'method=optimize', 'algorithm=lbfgs', 'iter=10000']\n",
            "10:25:33 - cmdstanpy - INFO - Chain [1] start processing\n",
            "INFO:cmdstanpy:Chain [1] start processing\n",
            "10:25:36 - cmdstanpy - INFO - Chain [1] done processing\n",
            "INFO:cmdstanpy:Chain [1] done processing\n"
          ]
        },
        {
          "output_type": "stream",
          "name": "stdout",
          "text": [
            "| \u001b[39m18       \u001b[39m | \u001b[39m-417.8   \u001b[39m | \u001b[39m0.4773   \u001b[39m | \u001b[39m0.5092   \u001b[39m | \u001b[39m4.611    \u001b[39m |\n"
          ]
        },
        {
          "output_type": "stream",
          "name": "stderr",
          "text": [
            "INFO:prophet:Disabling daily seasonality. Run prophet with daily_seasonality=True to override this.\n",
            "DEBUG:cmdstanpy:input tempfile: /tmp/tmpf5vxwxgu/0eu31s8p.json\n",
            "DEBUG:cmdstanpy:input tempfile: /tmp/tmpf5vxwxgu/dc5ny3n0.json\n",
            "DEBUG:cmdstanpy:idx 0\n",
            "DEBUG:cmdstanpy:running CmdStan, num_threads: None\n",
            "DEBUG:cmdstanpy:CmdStan args: ['/usr/local/lib/python3.11/dist-packages/prophet/stan_model/prophet_model.bin', 'random', 'seed=63641', 'data', 'file=/tmp/tmpf5vxwxgu/0eu31s8p.json', 'init=/tmp/tmpf5vxwxgu/dc5ny3n0.json', 'output', 'file=/tmp/tmpf5vxwxgu/prophet_modelq3u0nzkb/prophet_model-20250208102538.csv', 'method=optimize', 'algorithm=lbfgs', 'iter=10000']\n",
            "10:25:38 - cmdstanpy - INFO - Chain [1] start processing\n",
            "INFO:cmdstanpy:Chain [1] start processing\n",
            "10:25:40 - cmdstanpy - INFO - Chain [1] done processing\n",
            "INFO:cmdstanpy:Chain [1] done processing\n"
          ]
        },
        {
          "output_type": "stream",
          "name": "stdout",
          "text": [
            "| \u001b[39m19       \u001b[39m | \u001b[39m-417.2   \u001b[39m | \u001b[39m0.09549  \u001b[39m | \u001b[39m4.713    \u001b[39m | \u001b[39m2.483    \u001b[39m |\n"
          ]
        },
        {
          "output_type": "stream",
          "name": "stderr",
          "text": [
            "INFO:prophet:Disabling daily seasonality. Run prophet with daily_seasonality=True to override this.\n",
            "DEBUG:cmdstanpy:input tempfile: /tmp/tmpf5vxwxgu/u48frkqo.json\n",
            "DEBUG:cmdstanpy:input tempfile: /tmp/tmpf5vxwxgu/93qcazx3.json\n",
            "DEBUG:cmdstanpy:idx 0\n",
            "DEBUG:cmdstanpy:running CmdStan, num_threads: None\n",
            "DEBUG:cmdstanpy:CmdStan args: ['/usr/local/lib/python3.11/dist-packages/prophet/stan_model/prophet_model.bin', 'random', 'seed=39437', 'data', 'file=/tmp/tmpf5vxwxgu/u48frkqo.json', 'init=/tmp/tmpf5vxwxgu/93qcazx3.json', 'output', 'file=/tmp/tmpf5vxwxgu/prophet_modelu8ssljg5/prophet_model-20250208102541.csv', 'method=optimize', 'algorithm=lbfgs', 'iter=10000']\n",
            "10:25:41 - cmdstanpy - INFO - Chain [1] start processing\n",
            "INFO:cmdstanpy:Chain [1] start processing\n",
            "10:25:43 - cmdstanpy - INFO - Chain [1] done processing\n",
            "INFO:cmdstanpy:Chain [1] done processing\n"
          ]
        },
        {
          "output_type": "stream",
          "name": "stdout",
          "text": [
            "| \u001b[39m20       \u001b[39m | \u001b[39m-417.8   \u001b[39m | \u001b[39m0.3765   \u001b[39m | \u001b[39m4.479    \u001b[39m | \u001b[39m4.107    \u001b[39m |\n"
          ]
        },
        {
          "output_type": "stream",
          "name": "stderr",
          "text": [
            "INFO:prophet:Disabling daily seasonality. Run prophet with daily_seasonality=True to override this.\n",
            "DEBUG:cmdstanpy:input tempfile: /tmp/tmpf5vxwxgu/58axb73k.json\n",
            "DEBUG:cmdstanpy:input tempfile: /tmp/tmpf5vxwxgu/jn8rkydt.json\n",
            "DEBUG:cmdstanpy:idx 0\n",
            "DEBUG:cmdstanpy:running CmdStan, num_threads: None\n",
            "DEBUG:cmdstanpy:CmdStan args: ['/usr/local/lib/python3.11/dist-packages/prophet/stan_model/prophet_model.bin', 'random', 'seed=63481', 'data', 'file=/tmp/tmpf5vxwxgu/58axb73k.json', 'init=/tmp/tmpf5vxwxgu/jn8rkydt.json', 'output', 'file=/tmp/tmpf5vxwxgu/prophet_modelxw2kc63h/prophet_model-20250208102544.csv', 'method=optimize', 'algorithm=lbfgs', 'iter=10000']\n",
            "10:25:44 - cmdstanpy - INFO - Chain [1] start processing\n",
            "INFO:cmdstanpy:Chain [1] start processing\n",
            "10:25:46 - cmdstanpy - INFO - Chain [1] done processing\n",
            "INFO:cmdstanpy:Chain [1] done processing\n"
          ]
        },
        {
          "output_type": "stream",
          "name": "stdout",
          "text": [
            "| \u001b[39m21       \u001b[39m | \u001b[39m-416.7   \u001b[39m | \u001b[39m0.05915  \u001b[39m | \u001b[39m1.672    \u001b[39m | \u001b[39m5.729    \u001b[39m |\n"
          ]
        },
        {
          "output_type": "stream",
          "name": "stderr",
          "text": [
            "INFO:prophet:Disabling daily seasonality. Run prophet with daily_seasonality=True to override this.\n",
            "DEBUG:cmdstanpy:input tempfile: /tmp/tmpf5vxwxgu/n7yl6xz8.json\n",
            "DEBUG:cmdstanpy:input tempfile: /tmp/tmpf5vxwxgu/9eg1uot7.json\n",
            "DEBUG:cmdstanpy:idx 0\n",
            "DEBUG:cmdstanpy:running CmdStan, num_threads: None\n",
            "DEBUG:cmdstanpy:CmdStan args: ['/usr/local/lib/python3.11/dist-packages/prophet/stan_model/prophet_model.bin', 'random', 'seed=9006', 'data', 'file=/tmp/tmpf5vxwxgu/n7yl6xz8.json', 'init=/tmp/tmpf5vxwxgu/9eg1uot7.json', 'output', 'file=/tmp/tmpf5vxwxgu/prophet_model_5_dm1g0/prophet_model-20250208102547.csv', 'method=optimize', 'algorithm=lbfgs', 'iter=10000']\n",
            "10:25:47 - cmdstanpy - INFO - Chain [1] start processing\n",
            "INFO:cmdstanpy:Chain [1] start processing\n",
            "10:25:48 - cmdstanpy - INFO - Chain [1] done processing\n",
            "INFO:cmdstanpy:Chain [1] done processing\n"
          ]
        },
        {
          "output_type": "stream",
          "name": "stdout",
          "text": [
            "| \u001b[39m22       \u001b[39m | \u001b[39m-466.7   \u001b[39m | \u001b[39m0.001244 \u001b[39m | \u001b[39m3.13     \u001b[39m | \u001b[39m6.304    \u001b[39m |\n"
          ]
        },
        {
          "output_type": "stream",
          "name": "stderr",
          "text": [
            "INFO:prophet:Disabling daily seasonality. Run prophet with daily_seasonality=True to override this.\n",
            "DEBUG:cmdstanpy:input tempfile: /tmp/tmpf5vxwxgu/otzvdzj7.json\n",
            "DEBUG:cmdstanpy:input tempfile: /tmp/tmpf5vxwxgu/z094x38u.json\n",
            "DEBUG:cmdstanpy:idx 0\n",
            "DEBUG:cmdstanpy:running CmdStan, num_threads: None\n",
            "DEBUG:cmdstanpy:CmdStan args: ['/usr/local/lib/python3.11/dist-packages/prophet/stan_model/prophet_model.bin', 'random', 'seed=9262', 'data', 'file=/tmp/tmpf5vxwxgu/otzvdzj7.json', 'init=/tmp/tmpf5vxwxgu/z094x38u.json', 'output', 'file=/tmp/tmpf5vxwxgu/prophet_modelko6o1g2r/prophet_model-20250208102550.csv', 'method=optimize', 'algorithm=lbfgs', 'iter=10000']\n",
            "10:25:50 - cmdstanpy - INFO - Chain [1] start processing\n",
            "INFO:cmdstanpy:Chain [1] start processing\n",
            "10:25:53 - cmdstanpy - INFO - Chain [1] done processing\n",
            "INFO:cmdstanpy:Chain [1] done processing\n"
          ]
        },
        {
          "output_type": "stream",
          "name": "stdout",
          "text": [
            "| \u001b[39m23       \u001b[39m | \u001b[39m-417.7   \u001b[39m | \u001b[39m0.2307   \u001b[39m | \u001b[39m0.3871   \u001b[39m | \u001b[39m6.177    \u001b[39m |\n"
          ]
        },
        {
          "output_type": "stream",
          "name": "stderr",
          "text": [
            "INFO:prophet:Disabling daily seasonality. Run prophet with daily_seasonality=True to override this.\n",
            "DEBUG:cmdstanpy:input tempfile: /tmp/tmpf5vxwxgu/lt8wapjd.json\n",
            "DEBUG:cmdstanpy:input tempfile: /tmp/tmpf5vxwxgu/sn57z4s2.json\n",
            "DEBUG:cmdstanpy:idx 0\n",
            "DEBUG:cmdstanpy:running CmdStan, num_threads: None\n",
            "DEBUG:cmdstanpy:CmdStan args: ['/usr/local/lib/python3.11/dist-packages/prophet/stan_model/prophet_model.bin', 'random', 'seed=44929', 'data', 'file=/tmp/tmpf5vxwxgu/lt8wapjd.json', 'init=/tmp/tmpf5vxwxgu/sn57z4s2.json', 'output', 'file=/tmp/tmpf5vxwxgu/prophet_modelolngvpsm/prophet_model-20250208102555.csv', 'method=optimize', 'algorithm=lbfgs', 'iter=10000']\n",
            "10:25:55 - cmdstanpy - INFO - Chain [1] start processing\n",
            "INFO:cmdstanpy:Chain [1] start processing\n",
            "10:25:56 - cmdstanpy - INFO - Chain [1] done processing\n",
            "INFO:cmdstanpy:Chain [1] done processing\n"
          ]
        },
        {
          "output_type": "stream",
          "name": "stdout",
          "text": [
            "| \u001b[39m24       \u001b[39m | \u001b[39m-417.2   \u001b[39m | \u001b[39m0.1342   \u001b[39m | \u001b[39m5.195    \u001b[39m | \u001b[39m0.867    \u001b[39m |\n"
          ]
        },
        {
          "output_type": "stream",
          "name": "stderr",
          "text": [
            "INFO:prophet:Disabling daily seasonality. Run prophet with daily_seasonality=True to override this.\n",
            "DEBUG:cmdstanpy:input tempfile: /tmp/tmpf5vxwxgu/clq9v48u.json\n",
            "DEBUG:cmdstanpy:input tempfile: /tmp/tmpf5vxwxgu/wgu94auw.json\n",
            "DEBUG:cmdstanpy:idx 0\n",
            "DEBUG:cmdstanpy:running CmdStan, num_threads: None\n",
            "DEBUG:cmdstanpy:CmdStan args: ['/usr/local/lib/python3.11/dist-packages/prophet/stan_model/prophet_model.bin', 'random', 'seed=66636', 'data', 'file=/tmp/tmpf5vxwxgu/clq9v48u.json', 'init=/tmp/tmpf5vxwxgu/wgu94auw.json', 'output', 'file=/tmp/tmpf5vxwxgu/prophet_modelhfivaakr/prophet_model-20250208102558.csv', 'method=optimize', 'algorithm=lbfgs', 'iter=10000']\n",
            "10:25:58 - cmdstanpy - INFO - Chain [1] start processing\n",
            "INFO:cmdstanpy:Chain [1] start processing\n",
            "10:26:00 - cmdstanpy - INFO - Chain [1] done processing\n",
            "INFO:cmdstanpy:Chain [1] done processing\n"
          ]
        },
        {
          "output_type": "stream",
          "name": "stdout",
          "text": [
            "| \u001b[39m25       \u001b[39m | \u001b[39m-417.8   \u001b[39m | \u001b[39m0.4886   \u001b[39m | \u001b[39m6.278    \u001b[39m | \u001b[39m1.969    \u001b[39m |\n"
          ]
        },
        {
          "output_type": "stream",
          "name": "stderr",
          "text": [
            "INFO:prophet:Disabling daily seasonality. Run prophet with daily_seasonality=True to override this.\n",
            "DEBUG:cmdstanpy:input tempfile: /tmp/tmpf5vxwxgu/vlv_si0o.json\n",
            "DEBUG:cmdstanpy:input tempfile: /tmp/tmpf5vxwxgu/7_yjlg4m.json\n",
            "DEBUG:cmdstanpy:idx 0\n",
            "DEBUG:cmdstanpy:running CmdStan, num_threads: None\n",
            "DEBUG:cmdstanpy:CmdStan args: ['/usr/local/lib/python3.11/dist-packages/prophet/stan_model/prophet_model.bin', 'random', 'seed=91175', 'data', 'file=/tmp/tmpf5vxwxgu/vlv_si0o.json', 'init=/tmp/tmpf5vxwxgu/7_yjlg4m.json', 'output', 'file=/tmp/tmpf5vxwxgu/prophet_modeljtc9042m/prophet_model-20250208102601.csv', 'method=optimize', 'algorithm=lbfgs', 'iter=10000']\n",
            "10:26:01 - cmdstanpy - INFO - Chain [1] start processing\n",
            "INFO:cmdstanpy:Chain [1] start processing\n",
            "10:26:04 - cmdstanpy - INFO - Chain [1] done processing\n",
            "INFO:cmdstanpy:Chain [1] done processing\n"
          ]
        },
        {
          "output_type": "stream",
          "name": "stdout",
          "text": [
            "| \u001b[39m26       \u001b[39m | \u001b[39m-417.6   \u001b[39m | \u001b[39m0.4197   \u001b[39m | \u001b[39m6.67     \u001b[39m | \u001b[39m0.2991   \u001b[39m |\n"
          ]
        },
        {
          "output_type": "stream",
          "name": "stderr",
          "text": [
            "INFO:prophet:Disabling daily seasonality. Run prophet with daily_seasonality=True to override this.\n",
            "DEBUG:cmdstanpy:input tempfile: /tmp/tmpf5vxwxgu/gufxtnjr.json\n",
            "DEBUG:cmdstanpy:input tempfile: /tmp/tmpf5vxwxgu/idx5xax0.json\n",
            "DEBUG:cmdstanpy:idx 0\n",
            "DEBUG:cmdstanpy:running CmdStan, num_threads: None\n",
            "DEBUG:cmdstanpy:CmdStan args: ['/usr/local/lib/python3.11/dist-packages/prophet/stan_model/prophet_model.bin', 'random', 'seed=54524', 'data', 'file=/tmp/tmpf5vxwxgu/gufxtnjr.json', 'init=/tmp/tmpf5vxwxgu/idx5xax0.json', 'output', 'file=/tmp/tmpf5vxwxgu/prophet_modeld61xx65z/prophet_model-20250208102606.csv', 'method=optimize', 'algorithm=lbfgs', 'iter=10000']\n",
            "10:26:06 - cmdstanpy - INFO - Chain [1] start processing\n",
            "INFO:cmdstanpy:Chain [1] start processing\n",
            "10:26:08 - cmdstanpy - INFO - Chain [1] done processing\n",
            "INFO:cmdstanpy:Chain [1] done processing\n"
          ]
        },
        {
          "output_type": "stream",
          "name": "stdout",
          "text": [
            "| \u001b[39m27       \u001b[39m | \u001b[39m-417.7   \u001b[39m | \u001b[39m0.2506   \u001b[39m | \u001b[39m0.03975  \u001b[39m | \u001b[39m8.065    \u001b[39m |\n"
          ]
        },
        {
          "output_type": "stream",
          "name": "stderr",
          "text": [
            "INFO:prophet:Disabling daily seasonality. Run prophet with daily_seasonality=True to override this.\n",
            "DEBUG:cmdstanpy:input tempfile: /tmp/tmpf5vxwxgu/vmb2f5k3.json\n",
            "DEBUG:cmdstanpy:input tempfile: /tmp/tmpf5vxwxgu/q7gip28f.json\n",
            "DEBUG:cmdstanpy:idx 0\n",
            "DEBUG:cmdstanpy:running CmdStan, num_threads: None\n",
            "DEBUG:cmdstanpy:CmdStan args: ['/usr/local/lib/python3.11/dist-packages/prophet/stan_model/prophet_model.bin', 'random', 'seed=72073', 'data', 'file=/tmp/tmpf5vxwxgu/vmb2f5k3.json', 'init=/tmp/tmpf5vxwxgu/q7gip28f.json', 'output', 'file=/tmp/tmpf5vxwxgu/prophet_modele4cvhjr5/prophet_model-20250208102609.csv', 'method=optimize', 'algorithm=lbfgs', 'iter=10000']\n",
            "10:26:09 - cmdstanpy - INFO - Chain [1] start processing\n",
            "INFO:cmdstanpy:Chain [1] start processing\n",
            "10:26:11 - cmdstanpy - INFO - Chain [1] done processing\n",
            "INFO:cmdstanpy:Chain [1] done processing\n"
          ]
        },
        {
          "output_type": "stream",
          "name": "stdout",
          "text": [
            "| \u001b[39m28       \u001b[39m | \u001b[39m-416.9   \u001b[39m | \u001b[39m0.05751  \u001b[39m | \u001b[39m7.801    \u001b[39m | \u001b[39m1.342    \u001b[39m |\n"
          ]
        },
        {
          "output_type": "stream",
          "name": "stderr",
          "text": [
            "INFO:prophet:Disabling daily seasonality. Run prophet with daily_seasonality=True to override this.\n",
            "DEBUG:cmdstanpy:input tempfile: /tmp/tmpf5vxwxgu/wwo65csl.json\n",
            "DEBUG:cmdstanpy:input tempfile: /tmp/tmpf5vxwxgu/ovdqoqtc.json\n",
            "DEBUG:cmdstanpy:idx 0\n",
            "DEBUG:cmdstanpy:running CmdStan, num_threads: None\n",
            "DEBUG:cmdstanpy:CmdStan args: ['/usr/local/lib/python3.11/dist-packages/prophet/stan_model/prophet_model.bin', 'random', 'seed=27769', 'data', 'file=/tmp/tmpf5vxwxgu/wwo65csl.json', 'init=/tmp/tmpf5vxwxgu/ovdqoqtc.json', 'output', 'file=/tmp/tmpf5vxwxgu/prophet_modelhctus0_m/prophet_model-20250208102612.csv', 'method=optimize', 'algorithm=lbfgs', 'iter=10000']\n",
            "10:26:12 - cmdstanpy - INFO - Chain [1] start processing\n",
            "INFO:cmdstanpy:Chain [1] start processing\n",
            "10:26:14 - cmdstanpy - INFO - Chain [1] done processing\n",
            "INFO:cmdstanpy:Chain [1] done processing\n"
          ]
        },
        {
          "output_type": "stream",
          "name": "stdout",
          "text": [
            "| \u001b[39m29       \u001b[39m | \u001b[39m-417.2   \u001b[39m | \u001b[39m0.4857   \u001b[39m | \u001b[39m8.212    \u001b[39m | \u001b[39m0.01772  \u001b[39m |\n"
          ]
        },
        {
          "output_type": "stream",
          "name": "stderr",
          "text": [
            "INFO:prophet:Disabling daily seasonality. Run prophet with daily_seasonality=True to override this.\n",
            "DEBUG:cmdstanpy:input tempfile: /tmp/tmpf5vxwxgu/oai94pe9.json\n",
            "DEBUG:cmdstanpy:input tempfile: /tmp/tmpf5vxwxgu/40wlyitb.json\n",
            "DEBUG:cmdstanpy:idx 0\n",
            "DEBUG:cmdstanpy:running CmdStan, num_threads: None\n",
            "DEBUG:cmdstanpy:CmdStan args: ['/usr/local/lib/python3.11/dist-packages/prophet/stan_model/prophet_model.bin', 'random', 'seed=76261', 'data', 'file=/tmp/tmpf5vxwxgu/oai94pe9.json', 'init=/tmp/tmpf5vxwxgu/40wlyitb.json', 'output', 'file=/tmp/tmpf5vxwxgu/prophet_model65vguk52/prophet_model-20250208102616.csv', 'method=optimize', 'algorithm=lbfgs', 'iter=10000']\n",
            "10:26:16 - cmdstanpy - INFO - Chain [1] start processing\n",
            "INFO:cmdstanpy:Chain [1] start processing\n",
            "10:26:19 - cmdstanpy - INFO - Chain [1] done processing\n",
            "INFO:cmdstanpy:Chain [1] done processing\n"
          ]
        },
        {
          "output_type": "stream",
          "name": "stdout",
          "text": [
            "| \u001b[39m30       \u001b[39m | \u001b[39m-417.6   \u001b[39m | \u001b[39m0.3809   \u001b[39m | \u001b[39m9.374    \u001b[39m | \u001b[39m1.067    \u001b[39m |\n",
            "=============================================================\n",
            "Best Hyperparameters: {'changepoint_prior_scale': 0.029983722471931533, 'holiday_prior_scale': 8.663099696291603, 'seasonality_prior_scale': 6.015138967314656}\n"
          ]
        }
      ]
    },
    {
      "cell_type": "code",
      "source": [
        "final_model = Prophet(\n",
        "    changepoint_prior_scale=best_params['changepoint_prior_scale'],\n",
        "    seasonality_prior_scale=best_params['seasonality_prior_scale'],\n",
        "    holidays_prior_scale=best_params['holiday_prior_scale']\n",
        ")\n",
        "\n",
        "final_model.fit(train_df)\n",
        "\n",
        "future = final_model.make_future_dataframe(periods=len(test_df), freq='D')\n",
        "forecast = final_model.predict(future)\n",
        "\n",
        "print(forecast[['ds', 'yhat', 'yhat_lower', 'yhat_upper']].tail())"
      ],
      "metadata": {
        "colab": {
          "base_uri": "https://localhost:8080/"
        },
        "id": "qkGDq3GruTY1",
        "outputId": "cd06f32f-3e52-4813-d859-17c8987d99a7"
      },
      "execution_count": 17,
      "outputs": [
        {
          "output_type": "stream",
          "name": "stderr",
          "text": [
            "INFO:prophet:Disabling daily seasonality. Run prophet with daily_seasonality=True to override this.\n",
            "DEBUG:cmdstanpy:input tempfile: /tmp/tmpf5vxwxgu/usdttq9v.json\n",
            "DEBUG:cmdstanpy:input tempfile: /tmp/tmpf5vxwxgu/g5ba_9st.json\n",
            "DEBUG:cmdstanpy:idx 0\n",
            "DEBUG:cmdstanpy:running CmdStan, num_threads: None\n",
            "DEBUG:cmdstanpy:CmdStan args: ['/usr/local/lib/python3.11/dist-packages/prophet/stan_model/prophet_model.bin', 'random', 'seed=10372', 'data', 'file=/tmp/tmpf5vxwxgu/usdttq9v.json', 'init=/tmp/tmpf5vxwxgu/g5ba_9st.json', 'output', 'file=/tmp/tmpf5vxwxgu/prophet_modela048nkw4/prophet_model-20250208102621.csv', 'method=optimize', 'algorithm=lbfgs', 'iter=10000']\n",
            "10:26:21 - cmdstanpy - INFO - Chain [1] start processing\n",
            "INFO:cmdstanpy:Chain [1] start processing\n",
            "10:26:22 - cmdstanpy - INFO - Chain [1] done processing\n",
            "INFO:cmdstanpy:Chain [1] done processing\n"
          ]
        },
        {
          "output_type": "stream",
          "name": "stdout",
          "text": [
            "             ds         yhat   yhat_lower   yhat_upper\n",
            "4426 2021-02-13  1605.322841  1401.741009  1826.535107\n",
            "4427 2021-02-14  1605.888683  1410.561836  1830.971235\n",
            "4428 2021-02-15  1610.009263  1411.350682  1835.679070\n",
            "4429 2021-02-16  1610.579527  1408.867511  1826.485664\n",
            "4430 2021-02-17  1611.596775  1406.061178  1833.536811\n"
          ]
        }
      ]
    },
    {
      "cell_type": "code",
      "source": [
        "import matplotlib.pyplot as plt\n",
        "\n",
        "fig = final_model.plot(forecast,)\n",
        "plt.plot(train_df['ds'], train_df['y'], label=\"Training Data\", color='blue')\n",
        "plt.plot(test_df['ds'], test_df['y'], label=\"Actual Test Data\", color='black')\n",
        "plt.legend()\n",
        "plt.show()\n",
        "plt.plot(forecast['ds'], forecast['yhat'], label=\"Prophet Prediction\", color='green')\n",
        "\n"
      ],
      "metadata": {
        "colab": {
          "base_uri": "https://localhost:8080/",
          "height": 1000
        },
        "id": "5O5-wh6QunMq",
        "outputId": "9d51e82f-3e55-4d73-ba6a-3387f6ab5da5"
      },
      "execution_count": 18,
      "outputs": [
        {
          "output_type": "display_data",
          "data": {
            "text/plain": [
              "<Figure size 1000x600 with 1 Axes>"
            ],
            "image/png": "[encoded data removed]"
          },
          "metadata": {}
        },
        {
          "output_type": "execute_result",
          "data": {
            "text/plain": [
              "[<matplotlib.lines.Line2D at 0x7b4792eddc10>]"
            ]
          },
          "metadata": {},
          "execution_count": 18
        },
        {
          "output_type": "display_data",
          "data": {
            "text/plain": [
              "<Figure size 640x480 with 1 Axes>"
            ],
            "image/png": "[encoded data removed]"
          },
          "metadata": {}
        }
      ]
    },
    {
      "cell_type": "code",
      "source": [],
      "metadata": {
        "id": "9C79-_heJSiD"
      },
      "execution_count": null,
      "outputs": []
    },
    {
      "cell_type": "code",
      "source": [],
      "metadata": {
        "id": "AMqXcRx_LCkT"
      },
      "execution_count": null,
      "outputs": []
    }
  ]
}